{
 "cells": [
  {
   "cell_type": "code",
   "execution_count": 1,
   "metadata": {},
   "outputs": [],
   "source": [
    "import torch as tc\n",
    "tc.set_default_tensor_type(tc.DoubleTensor)"
   ]
  },
  {
   "cell_type": "code",
   "execution_count": 2,
   "metadata": {},
   "outputs": [],
   "source": [
    "from __future__ import division\n",
    "import sys, platform, os\n",
    "\n",
    "import numpy as np\n",
    "import scipy as sp\n",
    "from scipy.optimize import root\n",
    "\n",
    "import MyHyperSphericaljl as jl\n",
    "import MyOtherFunctions as fun\n",
    "\n",
    "import matplotlib\n",
    "from matplotlib import pyplot as plt\n",
    "%matplotlib inline"
   ]
  },
  {
   "cell_type": "code",
   "execution_count": 3,
   "metadata": {},
   "outputs": [
    {
     "name": "stdout",
     "output_type": "stream",
     "text": [
      "Using CAMB 1.5.4 installed at /opt/anaconda3/envs/py38/lib/python3.8/site-packages/camb\n"
     ]
    }
   ],
   "source": [
    "import camb\n",
    "from camb import model, initialpower\n",
    "print('Using CAMB %s installed at %s'%(camb.__version__,os.path.dirname(camb.__file__)))"
   ]
  },
  {
   "cell_type": "code",
   "execution_count": 4,
   "metadata": {},
   "outputs": [
    {
     "name": "stdout",
     "output_type": "stream",
     "text": [
      "The scale of K is  0.0 / Mpc\n"
     ]
    }
   ],
   "source": [
    "h = 0.673\n",
    "ns = 0.966\n",
    "As = 2e-9\n",
    "c_light = 2.88792458e5\n",
    "OmegaK = 0\n",
    "KK = -(h*100/c_light)**2 * OmegaK\n",
    "Kscale = np.sqrt(np.abs(KK))\n",
    "l_max = 2000\n",
    "\n",
    "print('The sign of spacial curvature is 0 (flat universe)')\n",
    "print('The scale of K is ', Kscale, '/ Mpc')"
   ]
  },
  {
   "cell_type": "code",
   "execution_count": 16,
   "metadata": {},
   "outputs": [],
   "source": [
    "pars = camb.set_params(H0=100*h, ombh2=0.0223828, omch2=0.1201075, mnu=6.451439e-04, omk=OmegaK, tau=0.05430842, As=As, ns=ns, halofit_version='mead', lmax=l_max)\n",
    "\n",
    "einstein_solu_data = camb.CAMBdata()\n",
    "einstein_solu_data.set_params(pars)\n",
    "einstein_solu_data.calc_background(pars)"
   ]
  },
  {
   "cell_type": "code",
   "execution_count": 17,
   "metadata": {},
   "outputs": [
    {
     "name": "stdout",
     "output_type": "stream",
     "text": [
      "The number of modes is 9400\n",
      "The smallest length scale is  0.0046354820048188075 Mpc (initial condition)\n",
      "The largest length scale is  14172.205234443021 Mpc (nowadays)\n"
     ]
    }
   ],
   "source": [
    "klist = np.hstack([10**np.linspace(-5, -2, 1500, endpoint=False), np.arange(1e-2, 8e-1, 1e-4)])\n",
    "# klist = np.hstack([10**np.linspace(-5, -3, 1000, endpoint=False), np.arange(1e-3, 8e-1, 1e-4), np.arange(8e-1, 1.3, 5e-4)])\n",
    "\n",
    "eta_in = einstein_solu_data.conformal_time(1e8)\n",
    "eta_0 = einstein_solu_data.conformal_time(0)\n",
    "\n",
    "# Xlist = np.linspace(np.log10(eta_in), np.log10(eta_0), 1000, endpoint=True)\n",
    "# start at np.log10(eta_in) is not enough for super-horizon modes\n",
    "lgetalist = np.linspace(-3.5, np.log10(eta_0), 1000, endpoint=True)\n",
    "etalist = 10**lgetalist\n",
    "\n",
    "binlist = np.ceil(np.where(eta_0 * klist / (2*tc.pi) * 5 <1000, 1000, eta_0 * klist / (2*tc.pi) * 5))\n",
    "\n",
    "print('The number of modes is', len(klist))\n",
    "print('The smallest length scale is ', eta_in, 'Mpc (initial condition)')\n",
    "print('The largest length scale is ', eta_0, 'Mpc (nowadays)')"
   ]
  },
  {
   "cell_type": "code",
   "execution_count": 8,
   "metadata": {},
   "outputs": [
    {
     "name": "stdout",
     "output_type": "stream",
     "text": [
      " Solving ki = 1.299499999999945 / Mpc , with i = 9989         \r"
     ]
    }
   ],
   "source": [
    "res = tc.empty([len(klist), l_max])\n",
    "# HyperSphericaljl = tc.empty([len(klist), 2, len(etalist)])\n",
    "\n",
    "for itr in range(len(klist)):\n",
    "    ki = klist[itr]\n",
    "    \n",
    "    print(' Solving ki =', ki, '/ Mpc , with i =', itr, '    ', end='\\r')\n",
    "    \n",
    "    #########################################################\n",
    "    # 1. Computing the solutions to Einstein Eqns\n",
    "\n",
    "    Weylk = einstein_solu_data.get_time_evolution(q=ki, eta=etalist, vars=['Weyl'], frame='Newtonian')[:,0]\n",
    "    \n",
    "    index0 = (Weylk.nonzero())[0][0]\n",
    "    Psi_normalized = Weylk\n",
    "    Psi_normalized[:index0] = 1 \n",
    "    Psi_normalized[index0:] = Weylk[index0:] / Weylk[index0]\n",
    "\n",
    "    Psi_normalized = tc.tensor(Psi_normalized)    \n",
    "    Psi_prime = fun.Compute_direvative(Psi_normalized, lgetalist[-1], lgetalist[0])\n",
    "    dPsi_dx = Psi_prime / tc.tensor(etalist) / np.log(10)\n",
    "\n",
    "    # plots[itr, 0] = Psi_normalized\n",
    "    # plots[itr, 1] = Psi_prime\n",
    "\n",
    "    #########################################################\n",
    "    # 2. Computing Hyperspherical Bessel Function with lmax\n",
    "\n",
    "    NX = np.array(2 * binlist[itr], dtype='int32')\n",
    "    Xlist = np.hstack([10**np.linspace(np.log10(eta_in), np.log10(eta_0 * 100 / NX), 1000, endpoint=False), \n",
    "                        np.linspace(eta_0 * 100 / NX, eta_0, NX - 1, endpoint=True)])\n",
    "    Xlist = tc.tensor(Xlist)\n",
    "        \n",
    "    HyperSphericaljl = jl.Recurrence_specified(ki * (eta_0 - Xlist[:-1]), lmax = l_max)\n",
    "\n",
    "    #########################################################\n",
    "    # 3. Integration along line of sight\n",
    "\n",
    "    dPsi_dx_itp = tc.tensor(np.interp(Xlist, etalist, dPsi_dx))\n",
    "    FX = dPsi_dx_itp * HyperSphericaljl\n",
    "\n",
    "    integration_value = fun.My_Integral(Xlist, FX)\n",
    "    res[itr] = integration_value**2 / ki\n",
    "    "
   ]
  },
  {
   "cell_type": "code",
   "execution_count": 9,
   "metadata": {},
   "outputs": [],
   "source": [
    "np.save('Tlsquare_K0_l2000.npy', np.array(res))"
   ]
  },
  {
   "cell_type": "code",
   "execution_count": null,
   "metadata": {},
   "outputs": [],
   "source": []
  }
 ],
 "metadata": {
  "kernelspec": {
   "display_name": "Python 3 (ipykernel)",
   "language": "python",
   "name": "python3"
  },
  "language_info": {
   "codemirror_mode": {
    "name": "ipython",
    "version": 3
   },
   "file_extension": ".py",
   "mimetype": "text/x-python",
   "name": "python",
   "nbconvert_exporter": "python",
   "pygments_lexer": "ipython3",
   "version": "3.9.12"
  }
 },
 "nbformat": 4,
 "nbformat_minor": 2
}
