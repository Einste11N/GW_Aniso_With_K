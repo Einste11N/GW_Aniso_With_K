{
 "cells": [
  {
   "cell_type": "code",
   "execution_count": 1,
   "metadata": {},
   "outputs": [],
   "source": [
    "import torch as tc\n",
    "tc.set_default_tensor_type(tc.DoubleTensor)"
   ]
  },
  {
   "cell_type": "code",
   "execution_count": 2,
   "metadata": {},
   "outputs": [],
   "source": [
    "from __future__ import division\n",
    "import sys, platform, os\n",
    "\n",
    "import numpy as np\n",
    "import scipy as sp\n",
    "from scipy.optimize import root\n",
    "\n",
    "import MyHyperSphericaljl as jl\n",
    "import MyOtherFunctions as fun\n",
    "\n",
    "import matplotlib\n",
    "from matplotlib import pyplot as plt\n",
    "%matplotlib inline"
   ]
  },
  {
   "cell_type": "code",
   "execution_count": 3,
   "metadata": {},
   "outputs": [
    {
     "name": "stdout",
     "output_type": "stream",
     "text": [
      "Using CAMB 1.5.4 installed at /opt/anaconda3/envs/py38/lib/python3.8/site-packages/camb\n"
     ]
    }
   ],
   "source": [
    "import camb\n",
    "from camb import model, initialpower\n",
    "print('Using CAMB %s installed at %s'%(camb.__version__,os.path.dirname(camb.__file__)))"
   ]
  },
  {
   "cell_type": "code",
   "execution_count": 4,
   "metadata": {},
   "outputs": [
    {
     "name": "stdout",
     "output_type": "stream",
     "text": [
      "The scale of K is  5.2109177617698e-05 / Mpc\n"
     ]
    }
   ],
   "source": [
    "h = 0.673\n",
    "ns = 0.966\n",
    "As = 2e-9\n",
    "c_light = 2.88792458e5\n",
    "OmegaK = -0.05\n",
    "KK = -(h*100/c_light)**2 * OmegaK\n",
    "Kscale = np.sqrt(np.abs(KK))\n",
    "l_max = 2000\n",
    "\n",
    "print('The sign of spacial curvature is + (closed universe)')\n",
    "print('The scale of K is ', Kscale, '/ Mpc')"
   ]
  },
  {
   "cell_type": "code",
   "execution_count": 5,
   "metadata": {},
   "outputs": [],
   "source": [
    "pars = camb.set_params(H0=100*h, ombh2=0.0223828, omch2=0.1201075, mnu=6.451439e-04, omk=OmegaK, tau=0.05430842, As=2e-9, ns=0.966, halofit_version='mead', lmax=4000)\n",
    "\n",
    "einstein_solu_data = camb.CAMBdata()\n",
    "einstein_solu_data.set_params(pars)\n",
    "einstein_solu_data.calc_background(pars)"
   ]
  },
  {
   "cell_type": "code",
   "execution_count": 6,
   "metadata": {},
   "outputs": [
    {
     "name": "stdout",
     "output_type": "stream",
     "text": [
      "The number of modes is 13995\n",
      "The smallest length scale is  0.00463548200481885 Mpc (initial condition), corresponding x = 2.4155115513274827e-07\n",
      "The largest length scale is  14345.198869731134 Mpc (nowadays), corresponding x = 0.7475165158640202\n"
     ]
    }
   ],
   "source": [
    "nulist = np.arange(5, 14000, 1)\n",
    "# nulist = np.array([100, 1000, 10000])\n",
    "nulist = np.array(nulist, dtype='int64')\n",
    "klist = Kscale * np.sqrt(nulist**2 - 1)\n",
    "\n",
    "eta_in = einstein_solu_data.conformal_time(1e8)\n",
    "eta_0 = einstein_solu_data.conformal_time(0)\n",
    "\n",
    "# start at np.log10(eta_in) is not enough for super-horizon modes\n",
    "lgetalist = np.linspace(-3.5, np.log10(eta_0), 1000, endpoint=True)\n",
    "etalist = 10**lgetalist\n",
    "\n",
    "x_in = eta_in * Kscale\n",
    "x_0 = eta_0 * Kscale\n",
    "binlist = np.where(nulist<1000, 1000, nulist)\n",
    "\n",
    "print('The number of modes is', len(klist))\n",
    "print('The smallest length scale is ', eta_in, 'Mpc (initial condition), corresponding x =', x_in)\n",
    "print('The largest length scale is ', eta_0, 'Mpc (nowadays), corresponding x =', x_0)"
   ]
  },
  {
   "cell_type": "code",
   "execution_count": 7,
   "metadata": {},
   "outputs": [
    {
     "name": "stdout",
     "output_type": "stream",
     "text": [
      " Solving ki = 0.636096729044842 / Mpc , with i = 12202       \r"
     ]
    }
   ],
   "source": [
    "res = tc.empty([len(klist), l_max])\n",
    "# plots = tc.empty([len(klist), 2, len(etalist)])\n",
    "\n",
    "for itr in range(len(klist)):\n",
    "    nu = nulist[itr]\n",
    "    ki = klist[itr]\n",
    "    \n",
    "    print(' Solving ki =', ki, '/ Mpc , with i =', itr, '    ', end='\\r')\n",
    "    \n",
    "    #########################################################\n",
    "    # 1. Computing the solutions to Einstein Eqns\n",
    "\n",
    "    Weylk = einstein_solu_data.get_time_evolution(q=ki, eta=etalist, vars=['Weyl'], frame='Newtonian')[:,0]\n",
    "    \n",
    "    index0 = (Weylk.nonzero())[0][0]\n",
    "    Psi_normalized = Weylk\n",
    "    Psi_normalized[:index0] = 1 \n",
    "    Psi_normalized[index0:] = Weylk[index0:] / Weylk[index0]\n",
    "\n",
    "    Psi_normalized = tc.tensor(Psi_normalized)    \n",
    "    Psi_prime = fun.Compute_direvative(Psi_normalized, lgetalist[-1], lgetalist[0])\n",
    "    dPsi_dx = Psi_prime / tc.tensor(etalist) / np.log(10) / Kscale\n",
    "\n",
    "    # plots[itr, 0] = Psi_normalized\n",
    "    # plots[itr, 1] = Psi_prime\n",
    "\n",
    "    #########################################################\n",
    "    # 2. Computing Hyperspherical Bessel Function with lmax\n",
    "\n",
    "    NX = 2 * binlist[itr]\n",
    "    Xlist = Kscale * np.hstack([10**np.linspace(np.log10(eta_in), np.log10(eta_0 * 100 / NX), 1000, endpoint=False), \n",
    "                        np.linspace(eta_0 * 100 / NX, eta_0, NX - 1, endpoint=True)])\n",
    "    Xlist = tc.tensor(Xlist)\n",
    "    \n",
    "    HyperSphericaljl = jl.Recurrence_specified(nu, Kscale * eta_0 - Xlist[:-1], lmax = l_max)\n",
    "\n",
    "    #########################################################\n",
    "    # 3. Integration along line of sight\n",
    "\n",
    "    dPsi_dx_itp = tc.tensor(np.interp(Xlist, Kscale * etalist, dPsi_dx))\n",
    "    FX = dPsi_dx_itp * HyperSphericaljl\n",
    "\n",
    "    integration_value = fun.My_Integral(Xlist, FX)\n",
    "    res[itr] = integration_value**2 / nu\n",
    "    "
   ]
  },
  {
   "cell_type": "code",
   "execution_count": null,
   "metadata": {},
   "outputs": [],
   "source": [
    "np.save('Tlsquare_K+_l2000.npy', np.array(res))"
   ]
  },
  {
   "cell_type": "code",
   "execution_count": null,
   "metadata": {},
   "outputs": [],
   "source": []
  },
  {
   "cell_type": "code",
   "execution_count": null,
   "metadata": {},
   "outputs": [],
   "source": []
  }
 ],
 "metadata": {
  "kernelspec": {
   "display_name": "py38",
   "language": "python",
   "name": "python3"
  },
  "language_info": {
   "codemirror_mode": {
    "name": "ipython",
    "version": 3
   },
   "file_extension": ".py",
   "mimetype": "text/x-python",
   "name": "python",
   "nbconvert_exporter": "python",
   "pygments_lexer": "ipython3",
   "version": "3.8.19"
  }
 },
 "nbformat": 4,
 "nbformat_minor": 2
}
